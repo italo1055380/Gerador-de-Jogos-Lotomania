{
  "nbformat": 4,
  "nbformat_minor": 0,
  "metadata": {
    "colab": {
      "provenance": [],
      "authorship_tag": "ABX9TyMP9FW8mhBmCUVV0gk1+IKa",
      "include_colab_link": true
    },
    "kernelspec": {
      "name": "python3",
      "display_name": "Python 3"
    },
    "language_info": {
      "name": "python"
    }
  },
  "cells": [
    {
      "cell_type": "markdown",
      "metadata": {
        "id": "view-in-github",
        "colab_type": "text"
      },
      "source": [
        "<a href=\"https://colab.research.google.com/github/italo1055380/Gerador-de-Jogos-Lotomania/blob/main/GeradorJogosdLotomania.ipynb\" target=\"_parent\"><img src=\"https://colab.research.google.com/assets/colab-badge.svg\" alt=\"Open In Colab\"/></a>"
      ]
    },
    {
      "cell_type": "code",
      "execution_count": null,
      "metadata": {
        "id": "YTlMoYgBZ4Xb"
      },
      "outputs": [],
      "source": [
        "import random\n",
        "\n",
        "def gerar_numeros_quentes_frios():\n",
        "    numeros_quentes = random.sample(range(1, 101), 50)\n",
        "    numeros_frios = [i for i in range(1, 101) if i not in numeros_quentes]\n",
        "    return numeros_quentes, numeros_frios\n",
        "\n",
        "def gerar_jogo_lotomania():\n",
        "    numeros_quentes, numeros_frios = gerar_numeros_quentes_frios()\n",
        "    jogo_pares = []\n",
        "    jogo_impares = []\n",
        "    \n",
        "    for i in range(50):\n",
        "        if len(jogo_pares) < 25 and numeros_quentes[i] % 2 == 0:\n",
        "            jogo_pares.append(numeros_quentes[i])\n",
        "        elif len(jogo_impares) < 25 and numeros_quentes[i] % 2 == 1:\n",
        "            jogo_impares.append(numeros_quentes[i])\n",
        "    \n",
        "    while len(jogo_pares) < 25:\n",
        "        if numeros_frios[0] % 2 == 0:\n",
        "            jogo_pares.append(numeros_frios.pop(0))\n",
        "        else:\n",
        "            numeros_frios.pop(0)\n",
        "    \n",
        "    while len(jogo_impares) < 25:\n",
        "        if numeros_frios[0] % 2 == 1:\n",
        "            jogo_impares.append(numeros_frios.pop(0))\n",
        "        else:\n",
        "            numeros_frios.pop(0)\n",
        "    \n",
        "    random.shuffle(jogo_pares)\n",
        "    random.shuffle(jogo_impares)\n",
        "    \n",
        "    return jogo_pares + jogo_impares\n",
        "\n",
        "# Pergunta quantos jogos o usuário deseja fazer\n",
        "quantidade_jogos = int(input(\"Quantos jogos deseja fazer? \"))\n",
        "\n",
        "# Gera a quantidade de jogos especificada pelo usuário\n",
        "for i in range(quantidade_jogos):\n",
        "    jogo = gerar_jogo_lotomania()\n",
        "    print(\"Jogo {}:\".format(i+1), jogo)\n"
      ]
    }
  ]
}